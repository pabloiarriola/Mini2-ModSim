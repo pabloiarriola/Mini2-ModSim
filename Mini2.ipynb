{
  "nbformat": 4,
  "nbformat_minor": 0,
  "metadata": {
    "colab": {
      "name": "Mini2.ipynb",
      "version": "0.3.2",
      "provenance": [],
      "collapsed_sections": [],
      "include_colab_link": true
    },
    "kernelspec": {
      "name": "python3",
      "display_name": "Python 3"
    }
  },
  "cells": [
    {
      "cell_type": "markdown",
      "metadata": {
        "id": "view-in-github",
        "colab_type": "text"
      },
      "source": [
        "<a href=\"https://colab.research.google.com/github/pabloiarriola/Mini2-ModSim/blob/master/Mini2.ipynb\" target=\"_parent\"><img src=\"https://colab.research.google.com/assets/colab-badge.svg\" alt=\"Open In Colab\"/></a>"
      ]
    },
    {
      "cell_type": "markdown",
      "metadata": {
        "id": "OELzzpouk86N",
        "colab_type": "text"
      },
      "source": [
        "# Mini2\n",
        "por: \\\\\n",
        "Santiago Paiz 15849 \\\\\n",
        "Pablo Ariola"
      ]
    },
    {
      "cell_type": "code",
      "metadata": {
        "id": "FoQ2_5_9fgcd",
        "colab_type": "code",
        "colab": {}
      },
      "source": [
        "import numpy as np                    # nos ayuda a hacer funciones matematicas mas simple\n",
        "import matplotlib.pyplot as plt       # Ayuda a graficar\n",
        "import random                         # libreria Random para ayudar\n",
        "import sys\n",
        "import math\n",
        "from numpy.random import normal, uniform\n",
        "from math import log\n",
        "import warnings\n",
        "warnings.filterwarnings('ignore')"
      ],
      "execution_count": 0,
      "outputs": []
    },
    {
      "cell_type": "markdown",
      "metadata": {
        "id": "to1SiR5Dmpgh",
        "colab_type": "text"
      },
      "source": [
        "## Ejercicio 1 – Función acumulada ponderada"
      ]
    },
    {
      "cell_type": "markdown",
      "metadata": {
        "id": "Dj0EF2dQm1Rj",
        "colab_type": "text"
      },
      "source": [
        "$$F(x) = \\sum_{i=1}^{n} p_iF_i(x)$$\n",
        "Tasks: \\\\\n",
        "● Describa un algoritmo para generar V \\\\\n",
        "● Demuestre que el algoritmo genera adecuadamente V"
      ]
    },
    {
      "cell_type": "markdown",
      "metadata": {
        "id": "iZeCJVAooRLJ",
        "colab_type": "text"
      },
      "source": [
        "## a.) <br>\n",
        "\n",
        "1. Con esto se puede generar un index I en la cual P(I = i) = $p_i$ para i = 1, 2, ... <br>\n",
        "2. Ya con esto se puede generar la variable aleatoria V con la funcion de distribucion $F_I$"
      ]
    },
    {
      "cell_type": "markdown",
      "metadata": {
        "id": "JOthoYEnoV3e",
        "colab_type": "text"
      },
      "source": [
        "## b.)\n"
      ]
    },
    {
      "cell_type": "markdown",
      "metadata": {
        "id": "Aw8M9epSoXrN",
        "colab_type": "text"
      },
      "source": [
        "Probamos utilizar $f = \\sum{p_if_i}$ para encontrar una funcion que tenga el mismo comportambiento \n",
        "$$f(x) = \\sum{p_if_i}$$\n",
        "$$\\int f(x) = \\int \\sum{p_if_i}$$\n",
        "$$F(x) = \\sum{p_i \\int f_i} = \\sum p_iF_i(x)$$\n"
      ]
    },
    {
      "cell_type": "markdown",
      "metadata": {
        "id": "7LtKXdMyoZmk",
        "colab_type": "text"
      },
      "source": [
        "Ya que comprobamos que esta funcion tiene el mismo comportamiento buscamos encontrar una variable aleatoria X para la funcion F(x)"
      ]
    },
    {
      "cell_type": "markdown",
      "metadata": {
        "id": "7RcuQbWcobQS",
        "colab_type": "text"
      },
      "source": [
        "Ya que X ~ F, substituimos:\n",
        "$$X = \\sum p_i X_i$$\n",
        "ahora x buscamos otra variable aleatoria\n",
        "$$F(\\mu) = X$$\n",
        "$$X = P_0 \\cup() + P_1 N()$$\n",
        "$$$$"
      ]
    },
    {
      "cell_type": "markdown",
      "metadata": {
        "id": "cvwJGsBNmhoz",
        "colab_type": "text"
      },
      "source": [
        "## Ejercicio 2 – Función acumulada ponderada"
      ]
    },
    {
      "cell_type": "markdown",
      "metadata": {
        "id": "KmGiZkMaJGjn",
        "colab_type": "text"
      },
      "source": [
        "Para resolver: $$f(x) = \\frac{5}{12}(1+(x-1)^4), \\qquad 0 \\le x \\le 2$$\n",
        "lo separamos a:\n",
        "$$f(x) = \\sum p_i f_i$$\n",
        "siempre tomando en cuenta que $\\sum_1^n p_i = 1$ y que no puede ser 0.\n",
        "si tenemos:\n",
        "$$p_1 = \\frac{5}{6}, \\quad f_1=\\frac{1}{2}, \\quad p_2 = \\frac{1}{6}, \\quad f_2 = \\frac{5}{2}(x-1)^4$$\n",
        "y utilizando el motodo de composicion:\n",
        "$$f_1(x) = \\frac{1}{2} \\rightarrow F_1(x) = \\int f_1(x) = \\frac{x}{2} = u \\rightarrow x = 2u$$\n",
        "$$f_2(x) = \\frac{5}{2}(x-4)^4 \\rightarrow F_2(x) = \\int f_2(x) = \\frac{1}{2}+\\frac{1}{2}(x-1)^5 = u \\rightarrow x = \\sqrt[5]{2u-1}$$"
      ]
    },
    {
      "cell_type": "code",
      "metadata": {
        "id": "_ZiYuqDrJHA0",
        "colab_type": "code",
        "colab": {}
      },
      "source": [
        "solucion_f1 = lambda u: 2*u\n",
        "solucion_f2 = lambda u: (2*u - 1) ** (1/5)"
      ],
      "execution_count": 0,
      "outputs": []
    },
    {
      "cell_type": "code",
      "metadata": {
        "id": "XgXeqdAgJI7-",
        "colab_type": "code",
        "colab": {}
      },
      "source": [
        "def generador(n):\n",
        "    # Creamos la lista de probabilidades\n",
        "    lista_de_val_aleatorios = []\n",
        "    for x in range(n):\n",
        "        lista_de_val_aleatorios.append((random.uniform(0,1), random.uniform(0,1))) \n",
        "        \n",
        "    valores = []\n",
        "    for u in lista_de_val_aleatorios:\n",
        "        if u[0] < (5/6):\n",
        "            valores.append(solucion_f1(u[1]))\n",
        "        else:\n",
        "            valores.append(solucion_f2(u[1]))\n",
        "    return valores"
      ],
      "execution_count": 0,
      "outputs": []
    },
    {
      "cell_type": "code",
      "metadata": {
        "id": "JOfMp9V-JJ6i",
        "colab_type": "code",
        "colab": {}
      },
      "source": [
        "resultados = generador(100)"
      ],
      "execution_count": 0,
      "outputs": []
    },
    {
      "cell_type": "code",
      "metadata": {
        "id": "Sicp7vKqJKr6",
        "colab_type": "code",
        "outputId": "92fed2bf-3721-444d-fae1-5153fb2097f2",
        "colab": {
          "base_uri": "https://localhost:8080/",
          "height": 357
        }
      },
      "source": [
        "plt.hist(resultados)"
      ],
      "execution_count": 0,
      "outputs": [
        {
          "output_type": "execute_result",
          "data": {
            "text/plain": [
              "(array([13.,  7., 15., 20., 10.,  4.,  7.,  8.,  8.,  8.]),\n",
              " array([0.02306411+0.j, 0.21879786+0.j, 0.41453162+0.j, 0.61026537+0.j,\n",
              "        0.80599912+0.j, 1.00173288+0.j, 1.19746663+0.j, 1.39320038+0.j,\n",
              "        1.58893413+0.j, 1.78466789+0.j, 1.98040164+0.j]),\n",
              " <a list of 10 Patch objects>)"
            ]
          },
          "metadata": {
            "tags": []
          },
          "execution_count": 113
        },
        {
          "output_type": "display_data",
          "data": {
            "image/png": "[encoded data removed]",
            "text/plain": [
              "<Figure size 432x288 with 1 Axes>"
            ]
          },
          "metadata": {
            "tags": []
          }
        }
      ]
    },
    {
      "cell_type": "markdown",
      "metadata": {
        "id": "XT4zuJx6oOz-",
        "colab_type": "text"
      },
      "source": [
        "# Ejercicio 3 – Valor presente neto"
      ]
    },
    {
      "cell_type": "code",
      "metadata": {
        "id": "epMzzN_giMnj",
        "colab_type": "code",
        "colab": {}
      },
      "source": [
        "def uniform(mu2, sigma2):\n",
        "    rango = sigma2 - mu2\n",
        "    selection = np.random.uniform(0, 1)\n",
        "    return mu2 + (rango*selection)\n"
      ],
      "execution_count": 0,
      "outputs": []
    },
    {
      "cell_type": "code",
      "metadata": {
        "id": "y0jpEdealdiE",
        "colab_type": "code",
        "colab": {}
      },
      "source": [
        "\n",
        "#Tomada de la presentacion 13. Simulando variables aleatorias continuas\n",
        "\n",
        "def ylambda():\n",
        "    U = uniform(0,1)\n",
        "    X = -1 * log(U)\n",
        "    return X\n",
        "  \n",
        "def normal(mu, sigma):\n",
        "    while True:\n",
        "        y1 = ylambda()\n",
        "        y2 = ylambda()\n",
        "        if y2 - (((y1-1)**2)/2) > 0:\n",
        "            y = y2 - (((y1-1)**2)/2)\n",
        "            U = uniform(0,1)\n",
        "            if U <= 0.5:\n",
        "                return mu + (sigma * y)\n",
        "            else:\n",
        "                return mu - (sigma * y)"
      ],
      "execution_count": 0,
      "outputs": []
    },
    {
      "cell_type": "code",
      "metadata": {
        "id": "p-ZigLeZoRzv",
        "colab_type": "code",
        "colab": {}
      },
      "source": [
        "def vpn():\n",
        "    H0 =  -800\n",
        "    C0 = -900\n",
        "    interes = 0.10\n",
        "    j = 0\n",
        "    H1 = normal(-800,50)\n",
        "    H2 = normal(-800,100)\n",
        "    H3 = normal(-700,150)\n",
        "    H4 = normal(300,200)\n",
        "    H5 = normal(400,200)\n",
        "    H6 = normal(500,200)\n",
        "    H7 = uniform(200,8440)    \n",
        "    hotel = np.array((H0,H1,H2,H3,H4,H5,H6,H7)) \n",
        "    \n",
        "    C1 = normal(-600,50)\n",
        "    C2 = normal(-200,50)\n",
        "    C3 = normal(-600,100)\n",
        "    C4 = normal(250,150)\n",
        "    C5 = normal(350,150)\n",
        "    C6 = normal(400,150)\n",
        "    C7 = uniform(1600,6000)\n",
        "    comercial = np.array((C0,C1,C2,C3,C4,C5,C6,C7))\n",
        "    \n",
        "    npvh = np.npv(interes,hotel)\n",
        "    npvc = np.npv(interes,comercial)\n",
        "    if npvh > npvc:\n",
        "        j = 1\n",
        "    return j"
      ],
      "execution_count": 0,
      "outputs": []
    },
    {
      "cell_type": "code",
      "metadata": {
        "id": "a848Vj0bXzGs",
        "colab_type": "code",
        "colab": {}
      },
      "source": [
        "a2 = 0\n",
        "for i in range(1,100):\n",
        "    if vpn()== 1:\n",
        "        a2 = a2 + 1\n",
        "        \n",
        "b2 = 0\n",
        "for i in range(1,1000):\n",
        "    if vpn()== 1:\n",
        "        b2 = b2 + 1\n",
        "        \n",
        "c2 = 0\n",
        "for i in range(1,10000):\n",
        "    if vpn()== 1:\n",
        "        c2 = c2 + 1\n",
        "        \n",
        "d2 = 0\n",
        "for i in range(1,100000):\n",
        "    if vpn()== 1:\n",
        "        d2 = d2 + 1\n",
        "        \n"
      ],
      "execution_count": 0,
      "outputs": []
    },
    {
      "cell_type": "code",
      "metadata": {
        "id": "efJ2lufsuyFK",
        "colab_type": "code",
        "outputId": "19ff9154-113c-47f9-9c1e-97cb4a384762",
        "colab": {
          "base_uri": "https://localhost:8080/",
          "height": 187
        }
      },
      "source": [
        "print('Elejir entre proyecto de Hotel o Centro Comercial: \\n')\n",
        "\n",
        "if a2 >= 100/2:\n",
        "    print('a. 1000 ejecuciones, con probabilidad de '+  format(a2/100*100,'.2f') +'%., invierta en proyecto del Hotel\\n')\n",
        "else:\n",
        "    print('a. 1000 ejecuciones, con probabilidad de '+  format((100-a2)/100*100,'.2f') +'%., invierta en proyecto del Centro Comercial \\n')\n",
        "\n",
        "if b2 >= 1000/2:\n",
        "    print('b. 1000 ejecuciones, con probabilidad de '+  format(b2/1000*100,'.2f') +'%., invierta en proyecto del Hotel\\n')\n",
        "else:\n",
        "    print('b. 1000 ejecuciones, con probabilidad de '+  format((1000-b2)/1000*100,'.2f') +'%., invierta en proyecto del Centro Comercial\\n')\n",
        "\n",
        "\n",
        "if c2 >= 10000/2:\n",
        "    print('c. 10000 ejecuciones, con probabilidad de '+  format(c2/10000*100,'.2f') +'%., invierta en proyecto del Hotel\\n')\n",
        "else:\n",
        "    print('c. 10000 ejecuciones, con probabilidad de '+  format((10000-c2)/10000*100,'.2f') +'%., invierta en proyecto del Centro Comercial\\n')\n",
        "\n",
        "\n",
        "if d2 >= 100000/2:\n",
        "    print('d. 100000 ejecuciones, con probabilidad de '+  format(d2/100000*100,'.2f') +'%., invierta en proyecto del Hotel\\n')\n",
        "else:\n",
        "    print('d. 100000 ejecuciones, con probabilidad de '+  format((100000-d2)/100000*100,'.2f') +'%., invierta en proyecto del Centro Comercial\\n')"
      ],
      "execution_count": 136,
      "outputs": [
        {
          "output_type": "stream",
          "text": [
            "Elejir entre proyecto de Hotel o Centro Comercial: \n",
            "\n",
            "a. 1000 ejecuciones, con probabilidad de 51.00%., invierta en proyecto del Hotel\n",
            "\n",
            "b. 1000 ejecuciones, con probabilidad de 56.30%., invierta en proyecto del Centro Comercial\n",
            "\n",
            "c. 10000 ejecuciones, con probabilidad de 55.67%., invierta en proyecto del Centro Comercial\n",
            "\n",
            "d. 100000 ejecuciones, con probabilidad de 56.20%., invierta en proyecto del Centro Comercial\n",
            "\n"
          ],
          "name": "stdout"
        }
      ]
    },
    {
      "cell_type": "markdown",
      "metadata": {
        "id": "E3N8FyUSwpEL",
        "colab_type": "text"
      },
      "source": [
        "## Conclusion\n",
        "La mejor eleccion para hacer la inversion es el Centro Comercial"
      ]
    },
    {
      "cell_type": "markdown",
      "metadata": {
        "id": "XUxkRfOKoSXe",
        "colab_type": "text"
      },
      "source": [
        "# Ejercicio 4 – Repartidor de periódicos"
      ]
    },
    {
      "cell_type": "code",
      "metadata": {
        "id": "gNs1oiJboUIa",
        "colab_type": "code",
        "colab": {}
      },
      "source": [
        "def resultadoPrint(ganancia, perdida):\n",
        "    ''' Impirme a pantalla las ganancias y perdidas que se le mandan en el parametro'''\n",
        "    print('Ganancia: {}'.format(ganancia))\n",
        "    print('Perdida: {}'.format(perdida))\n",
        "    print('Ganancia Neta = {}'.format(ganancia - perdida))"
      ],
      "execution_count": 0,
      "outputs": []
    },
    {
      "cell_type": "code",
      "metadata": {
        "id": "KhHKtCkdrhNa",
        "colab_type": "code",
        "colab": {}
      },
      "source": [
        "def simulacion(tiempos, chance, opciones):\n",
        "    for tiempo in tiempos:\n",
        "        print('')\n",
        "        print('=== SIMULACION SOBRE {} DIAS ==='.format(tiempo))\n",
        "        todos_pedidos = []\n",
        "\n",
        "        contador_9 = 0\n",
        "        contador_10 = 0\n",
        "        contador_11 = 0\n",
        "        \n",
        "        for x in range(tiempo):\n",
        "            pedido = random.choice(chance)\n",
        "            todos_pedidos.append(pedido)\n",
        "            if pedido == 9:\n",
        "                contador_9 += 1\n",
        "            if pedido == 10:\n",
        "                contador_10 += 1\n",
        "            if pedido == 11:\n",
        "                contador_11 += 1\n",
        "        \n",
        "        print('[[ 9: {}, 10: {}, 11: {} ]]'.format(contador_9,contador_10, contador_11))\n",
        "                \n",
        "        for cantidad_de_perdiodico_elegido in opciones:\n",
        "            ganancia = 0\n",
        "            perdida = 0\n",
        "            for pedidos in todos_pedidos:\n",
        "                cantidad_de_periodicos_sobraron = (cantidad_de_perdiodico_elegido - pedidos) # cuestan 1.5 pero se rembolsan 0.5\n",
        "                \n",
        "                if cantidad_de_periodicos_sobraron > 0:\n",
        "                    perdida += abs(cantidad_de_periodicos_sobraron) * (1) \n",
        "                    ganancia += pedidos\n",
        "                elif cantidad_de_periodicos_sobraron < 0:\n",
        "                    ganancia += cantidad_de_perdiodico_elegido\n",
        "                else:\n",
        "                    ganancia += cantidad_de_perdiodico_elegido\n",
        "\n",
        "            print('=== Comprando {} al dia ==='.format(cantidad_de_perdiodico_elegido))\n",
        "            resultadoPrint(ganancia, perdida)"
      ],
      "execution_count": 0,
      "outputs": []
    },
    {
      "cell_type": "code",
      "metadata": {
        "id": "kQW1U6xArjfM",
        "colab_type": "code",
        "outputId": "173706d3-8c41-4982-94d1-41f7d9bcceed",
        "colab": {
          "base_uri": "https://localhost:8080/",
          "height": 809
        }
      },
      "source": [
        "tiempos = [30, 365, (365*10)]            # 30 dias, 365 dias y 10 anios (365*10)\n",
        "chance = [9,9,9, 10,10,10,10 , 11,11,11] # 9-30% 10-40% 11-30% \n",
        "opciones = [9,10,11]                     # las opciones que se puede elegir\n",
        "simulacion(tiempos,chance, opciones)"
      ],
      "execution_count": 0,
      "outputs": [
        {
          "output_type": "stream",
          "text": [
            "\n",
            "=== SIMULACION SOBRE 30 DIAS ===\n",
            "[[ 9: 9, 10: 8, 11: 13 ]]\n",
            "=== Comprando 9 al dia ===\n",
            "Ganancia: 270\n",
            "Perdida: 0\n",
            "Ganancia Neta = 270\n",
            "=== Comprando 10 al dia ===\n",
            "Ganancia: 291\n",
            "Perdida: 9\n",
            "Ganancia Neta = 282\n",
            "=== Comprando 11 al dia ===\n",
            "Ganancia: 304\n",
            "Perdida: 26\n",
            "Ganancia Neta = 278\n",
            "\n",
            "=== SIMULACION SOBRE 365 DIAS ===\n",
            "[[ 9: 94, 10: 170, 11: 101 ]]\n",
            "=== Comprando 9 al dia ===\n",
            "Ganancia: 3285\n",
            "Perdida: 0\n",
            "Ganancia Neta = 3285\n",
            "=== Comprando 10 al dia ===\n",
            "Ganancia: 3556\n",
            "Perdida: 94\n",
            "Ganancia Neta = 3462\n",
            "=== Comprando 11 al dia ===\n",
            "Ganancia: 3657\n",
            "Perdida: 358\n",
            "Ganancia Neta = 3299\n",
            "\n",
            "=== SIMULACION SOBRE 3650 DIAS ===\n",
            "[[ 9: 1076, 10: 1460, 11: 1114 ]]\n",
            "=== Comprando 9 al dia ===\n",
            "Ganancia: 32850\n",
            "Perdida: 0\n",
            "Ganancia Neta = 32850\n",
            "=== Comprando 10 al dia ===\n",
            "Ganancia: 35424\n",
            "Perdida: 1076\n",
            "Ganancia Neta = 34348\n",
            "=== Comprando 11 al dia ===\n",
            "Ganancia: 36538\n",
            "Perdida: 3612\n",
            "Ganancia Neta = 32926\n"
          ],
          "name": "stdout"
        }
      ]
    },
    {
      "cell_type": "markdown",
      "metadata": {
        "id": "2jKAOE4nDT5s",
        "colab_type": "text"
      },
      "source": [
        "## Conclusion\n",
        "El mejor resultado salio comprando 10 periodicos diarios. En las 3 opciones salio con la ganancia neta mas grande."
      ]
    }
  ]
}